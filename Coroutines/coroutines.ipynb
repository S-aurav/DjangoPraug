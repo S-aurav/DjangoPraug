{
 "cells": [
  {
   "cell_type": "code",
   "execution_count": 1,
   "id": "dac1b6d4-1399-47ad-b422-c2608a463f1e",
   "metadata": {
    "tags": []
   },
   "outputs": [],
   "source": [
    "import asyncio"
   ]
  },
  {
   "cell_type": "code",
   "execution_count": 5,
   "id": "6fb93cb5-a016-4269-9f5d-421868f4ddac",
   "metadata": {
    "tags": []
   },
   "outputs": [],
   "source": [
    "async def fetch_data(delay):\n",
    "    print(\"Fetching data...\")\n",
    "    await asyncio.sleep(delay)\n",
    "    print(\"Data fetched\")\n",
    "    return {\"data\": \"Some data\"}"
   ]
  },
  {
   "cell_type": "code",
   "execution_count": 2,
   "id": "e082ffd2-c497-4572-b837-c9e97a00bf55",
   "metadata": {
    "tags": []
   },
   "outputs": [],
   "source": [
    "async def main():\n",
    "    print(\"Start of main coroutines\")\n",
    "    task = fetch_data(2)\n",
    "    # Await the fetch_data coroutine, pausing execution of main until fetach_data completes\n",
    "    result = await task\n",
    "    print(f\"Received result: {result}\")\n",
    "    print(\"End of main coroutine\")\n",
    "    "
   ]
  },
  {
   "cell_type": "code",
   "execution_count": 9,
   "id": "bc0f48af-b922-435c-b6bc-457c5e158f7a",
   "metadata": {
    "tags": []
   },
   "outputs": [
    {
     "name": "stdout",
     "output_type": "stream",
     "text": [
      "Start of main coroutines\n"
     ]
    },
    {
     "name": "stderr",
     "output_type": "stream",
     "text": [
      "C:\\Users\\yadav_j429s4r\\miniconda3\\envs\\directML\\lib\\site-packages\\IPython\\core\\async_helpers.py:124: RuntimeWarning: coroutine 'main' was never awaited\n",
      "  should_traverse = self.depth < max(invalid_types_by_depth.keys())\n",
      "RuntimeWarning: Enable tracemalloc to get the object allocation traceback\n"
     ]
    }
   ],
   "source": [
    "loop = asyncio.get_running_loop()\n",
    "await loop.create_task(main())"
   ]
  },
  {
   "cell_type": "code",
   "execution_count": 4,
   "id": "789050e3-d331-407a-a1c6-006e821dfaa6",
   "metadata": {
    "tags": []
   },
   "outputs": [
    {
     "data": {
      "text/plain": [
       "<coroutine object main at 0x000002ABE9FFB948>"
      ]
     },
     "execution_count": 4,
     "metadata": {},
     "output_type": "execute_result"
    }
   ],
   "source": [
    "main()"
   ]
  },
  {
   "cell_type": "code",
   "execution_count": null,
   "id": "c373e136-0c81-4ca4-bd1b-34b099e425ca",
   "metadata": {},
   "outputs": [],
   "source": []
  }
 ],
 "metadata": {
  "kernelspec": {
   "display_name": "Python 3 (ipykernel)",
   "language": "python",
   "name": "python3"
  },
  "language_info": {
   "codemirror_mode": {
    "name": "ipython",
    "version": 3
   },
   "file_extension": ".py",
   "mimetype": "text/x-python",
   "name": "python",
   "nbconvert_exporter": "python",
   "pygments_lexer": "ipython3",
   "version": "3.7.16"
  }
 },
 "nbformat": 4,
 "nbformat_minor": 5
}
